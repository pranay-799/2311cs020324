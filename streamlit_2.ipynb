{
 "cells": [
  {
   "cell_type": "code",
   "execution_count": 1,
   "metadata": {
    "colab": {
     "base_uri": "https://localhost:8080/"
    },
    "id": "RyJoZautPKwF",
    "outputId": "b2a384b4-1aca-495e-e1e3-e57450088a0d"
   },
   "outputs": [
    {
     "name": "stdout",
     "output_type": "stream",
     "text": [
      "Requirement already satisfied: streamlit in c:\\users\\admin\\anaconda2\\lib\\site-packages (1.37.1)\n",
      "Requirement already satisfied: altair<6,>=4.0 in c:\\users\\admin\\anaconda2\\lib\\site-packages (from streamlit) (5.0.1)\n",
      "Requirement already satisfied: blinker<2,>=1.0.0 in c:\\users\\admin\\anaconda2\\lib\\site-packages (from streamlit) (1.6.2)\n",
      "Requirement already satisfied: cachetools<6,>=4.0 in c:\\users\\admin\\anaconda2\\lib\\site-packages (from streamlit) (5.3.3)\n",
      "Requirement already satisfied: click<9,>=7.0 in c:\\users\\admin\\anaconda2\\lib\\site-packages (from streamlit) (8.1.7)\n",
      "Requirement already satisfied: numpy<3,>=1.20 in c:\\users\\admin\\anaconda2\\lib\\site-packages (from streamlit) (1.26.4)\n",
      "Requirement already satisfied: packaging<25,>=20 in c:\\users\\admin\\anaconda2\\lib\\site-packages (from streamlit) (24.1)\n",
      "Requirement already satisfied: pandas<3,>=1.3.0 in c:\\users\\admin\\anaconda2\\lib\\site-packages (from streamlit) (2.2.2)\n",
      "Requirement already satisfied: pillow<11,>=7.1.0 in c:\\users\\admin\\anaconda2\\lib\\site-packages (from streamlit) (10.4.0)\n",
      "Requirement already satisfied: protobuf<6,>=3.20 in c:\\users\\admin\\anaconda2\\lib\\site-packages (from streamlit) (4.25.3)\n",
      "Requirement already satisfied: pyarrow>=7.0 in c:\\users\\admin\\anaconda2\\lib\\site-packages (from streamlit) (16.1.0)\n",
      "Requirement already satisfied: requests<3,>=2.27 in c:\\users\\admin\\anaconda2\\lib\\site-packages (from streamlit) (2.32.3)\n",
      "Requirement already satisfied: rich<14,>=10.14.0 in c:\\users\\admin\\anaconda2\\lib\\site-packages (from streamlit) (13.7.1)\n",
      "Requirement already satisfied: tenacity<9,>=8.1.0 in c:\\users\\admin\\anaconda2\\lib\\site-packages (from streamlit) (8.2.3)\n",
      "Requirement already satisfied: toml<2,>=0.10.1 in c:\\users\\admin\\anaconda2\\lib\\site-packages (from streamlit) (0.10.2)\n",
      "Requirement already satisfied: typing-extensions<5,>=4.3.0 in c:\\users\\admin\\anaconda2\\lib\\site-packages (from streamlit) (4.11.0)\n",
      "Requirement already satisfied: gitpython!=3.1.19,<4,>=3.0.7 in c:\\users\\admin\\anaconda2\\lib\\site-packages (from streamlit) (3.1.43)\n",
      "Requirement already satisfied: pydeck<1,>=0.8.0b4 in c:\\users\\admin\\anaconda2\\lib\\site-packages (from streamlit) (0.8.0)\n",
      "Requirement already satisfied: tornado<7,>=6.0.3 in c:\\users\\admin\\anaconda2\\lib\\site-packages (from streamlit) (6.4.1)\n",
      "Requirement already satisfied: watchdog<5,>=2.1.5 in c:\\users\\admin\\anaconda2\\lib\\site-packages (from streamlit) (4.0.1)\n",
      "Requirement already satisfied: jinja2 in c:\\users\\admin\\anaconda2\\lib\\site-packages (from altair<6,>=4.0->streamlit) (3.1.4)\n",
      "Requirement already satisfied: jsonschema>=3.0 in c:\\users\\admin\\anaconda2\\lib\\site-packages (from altair<6,>=4.0->streamlit) (4.23.0)\n",
      "Requirement already satisfied: toolz in c:\\users\\admin\\anaconda2\\lib\\site-packages (from altair<6,>=4.0->streamlit) (0.12.0)\n",
      "Requirement already satisfied: colorama in c:\\users\\admin\\anaconda2\\lib\\site-packages (from click<9,>=7.0->streamlit) (0.4.6)\n",
      "Requirement already satisfied: gitdb<5,>=4.0.1 in c:\\users\\admin\\anaconda2\\lib\\site-packages (from gitpython!=3.1.19,<4,>=3.0.7->streamlit) (4.0.7)\n",
      "Requirement already satisfied: python-dateutil>=2.8.2 in c:\\users\\admin\\anaconda2\\lib\\site-packages (from pandas<3,>=1.3.0->streamlit) (2.9.0.post0)\n",
      "Requirement already satisfied: pytz>=2020.1 in c:\\users\\admin\\anaconda2\\lib\\site-packages (from pandas<3,>=1.3.0->streamlit) (2024.1)\n",
      "Requirement already satisfied: tzdata>=2022.7 in c:\\users\\admin\\anaconda2\\lib\\site-packages (from pandas<3,>=1.3.0->streamlit) (2023.3)\n",
      "Requirement already satisfied: charset-normalizer<4,>=2 in c:\\users\\admin\\anaconda2\\lib\\site-packages (from requests<3,>=2.27->streamlit) (3.3.2)\n",
      "Requirement already satisfied: idna<4,>=2.5 in c:\\users\\admin\\anaconda2\\lib\\site-packages (from requests<3,>=2.27->streamlit) (3.7)\n",
      "Requirement already satisfied: urllib3<3,>=1.21.1 in c:\\users\\admin\\anaconda2\\lib\\site-packages (from requests<3,>=2.27->streamlit) (2.2.3)\n",
      "Requirement already satisfied: certifi>=2017.4.17 in c:\\users\\admin\\anaconda2\\lib\\site-packages (from requests<3,>=2.27->streamlit) (2024.12.14)\n",
      "Requirement already satisfied: markdown-it-py>=2.2.0 in c:\\users\\admin\\anaconda2\\lib\\site-packages (from rich<14,>=10.14.0->streamlit) (2.2.0)\n",
      "Requirement already satisfied: pygments<3.0.0,>=2.13.0 in c:\\users\\admin\\anaconda2\\lib\\site-packages (from rich<14,>=10.14.0->streamlit) (2.15.1)\n",
      "Requirement already satisfied: smmap<5,>=3.0.1 in c:\\users\\admin\\anaconda2\\lib\\site-packages (from gitdb<5,>=4.0.1->gitpython!=3.1.19,<4,>=3.0.7->streamlit) (4.0.0)\n",
      "Requirement already satisfied: MarkupSafe>=2.0 in c:\\users\\admin\\anaconda2\\lib\\site-packages (from jinja2->altair<6,>=4.0->streamlit) (2.1.3)\n",
      "Requirement already satisfied: attrs>=22.2.0 in c:\\users\\admin\\anaconda2\\lib\\site-packages (from jsonschema>=3.0->altair<6,>=4.0->streamlit) (23.1.0)\n",
      "Requirement already satisfied: jsonschema-specifications>=2023.03.6 in c:\\users\\admin\\anaconda2\\lib\\site-packages (from jsonschema>=3.0->altair<6,>=4.0->streamlit) (2023.7.1)\n",
      "Requirement already satisfied: referencing>=0.28.4 in c:\\users\\admin\\anaconda2\\lib\\site-packages (from jsonschema>=3.0->altair<6,>=4.0->streamlit) (0.30.2)\n",
      "Requirement already satisfied: rpds-py>=0.7.1 in c:\\users\\admin\\anaconda2\\lib\\site-packages (from jsonschema>=3.0->altair<6,>=4.0->streamlit) (0.10.6)\n",
      "Requirement already satisfied: mdurl~=0.1 in c:\\users\\admin\\anaconda2\\lib\\site-packages (from markdown-it-py>=2.2.0->rich<14,>=10.14.0->streamlit) (0.1.0)\n",
      "Requirement already satisfied: six>=1.5 in c:\\users\\admin\\anaconda2\\lib\\site-packages (from python-dateutil>=2.8.2->pandas<3,>=1.3.0->streamlit) (1.16.0)\n"
     ]
    }
   ],
   "source": [
    "!pip install streamlit"
   ]
  },
  {
   "cell_type": "code",
   "execution_count": 2,
   "metadata": {
    "colab": {
     "base_uri": "https://localhost:8080/"
    },
    "id": "_FTtAdqxPQnV",
    "outputId": "b29d6cfb-5e50-4a2f-a866-f85b65aae30d"
   },
   "outputs": [
    {
     "name": "stdout",
     "output_type": "stream",
     "text": [
      "Writing app.py\n"
     ]
    }
   ],
   "source": [
    "%%writefile app.py\n",
    "\n",
    "import streamlit as st\n",
    "import pandas as pd\n",
    "import numpy as np\n",
    "from sklearn.tree import DecisionTreeClassifier\n",
    "from sklearn.model_selection import train_test_split\n",
    "from imblearn.over_sampling import SMOTE\n",
    "\n",
    "# Load and preprocess the dataset\n",
    "data = pd.read_csv('/content/Heart_Disease_Dataset.csv')  # Replace with your actual dataset path\n",
    "\n",
    "# Preprocessing steps\n",
    "binary_columns = ['Smoking', 'AlcoholDrinking', 'Stroke', 'DiffWalking', 'PhysicalActivity', 'Asthma', 'KidneyDisease', 'SkinCancer']\n",
    "for col in binary_columns:\n",
    "    data[col] = data[col].map({'Yes': 1, 'No': 0})\n",
    "\n",
    "# One-hot encode categorical columns\n",
    "data = pd.get_dummies(data, columns=['Sex', 'AgeCategory', 'Race', 'GenHealth', 'Diabetic'], drop_first=True)\n",
    "\n",
    "# Define features and target\n",
    "X = data.drop(columns=['HeartDisease'])\n",
    "y = data['HeartDisease'].map({'Yes': 1, 'No': 0})\n",
    "\n",
    "# Balance the dataset using SMOTE\n",
    "smote = SMOTE(random_state=42)\n",
    "X_resampled, y_resampled = smote.fit_resample(X, y)\n",
    "\n",
    "# Split into train and test sets\n",
    "X_train, X_test, y_train, y_test = train_test_split(X_resampled, y_resampled, test_size=0.2, random_state=42)\n",
    "\n",
    "# Train the Decision Tree Classifier\n",
    "clf = DecisionTreeClassifier(random_state=42)\n",
    "clf.fit(X_train, y_train)\n",
    "\n",
    "# Function to make predictions\n",
    "def predict_heart_disease(input_data):\n",
    "    # Create a DataFrame with the input data\n",
    "    input_df = pd.DataFrame([input_data], columns=X.columns)\n",
    "\n",
    "    # Ensure all columns are present (fill missing columns with 0)\n",
    "    for col in X.columns:\n",
    "        if col not in input_df.columns:\n",
    "            input_df[col] = 0\n",
    "\n",
    "    # Reorder columns to match the model's expectations\n",
    "    input_df = input_df[X.columns]\n",
    "\n",
    "    # Make prediction\n",
    "    prediction = clf.predict(input_df)\n",
    "    return \"Yes\" if prediction[0] == 1 else \"No\"\n",
    "\n",
    "# Streamlit app\n",
    "st.title(\"Heart Disease Prediction\")\n",
    "\n",
    "# Input fields\n",
    "bmi = st.number_input(\"BMI\", min_value=0.0, max_value=100.0, value=25.0)\n",
    "smoking = st.selectbox(\"Smoking\", [0, 1])\n",
    "alcohol_drinking = st.selectbox(\"Alcohol Drinking\", [0, 1])\n",
    "stroke = st.selectbox(\"Stroke\", [0, 1])\n",
    "physical_health = st.number_input(\"Physical Health (Days Not Good in Past 30)\", min_value=0, max_value=30, value=0)\n",
    "mental_health = st.number_input(\"Mental Health (Days Not Good in Past 30)\", min_value=0, max_value=30, value=0)\n",
    "diff_walking = st.selectbox(\"Difficulty Walking\", [0, 1])\n",
    "sex = st.selectbox(\"Sex\", [\"Female\", \"Male\"])\n",
    "age_category = st.selectbox(\"Age Category\", [\"25-29\", \"30-34\", \"35-39\", \"40-44\", \"50-54\", \"70-74\"])\n",
    "race = st.selectbox(\"Race\", [\"White\", \"Hispanic\", \"Black\", \"Asian\", \"American Indian/Alaskan Native\"])\n",
    "diabetic = st.selectbox(\"Diabetic Status\", [\"No\", \"No, borderline diabetes\", \"Yes (during pregnancy)\", \"Yes\"])\n",
    "physical_activity = st.selectbox(\"Physical Activity\", [0, 1])\n",
    "gen_health = st.selectbox(\"General Health\", [\"Poor\", \"Fair\", \"Good\", \"Very Good\", \"Excellent\"])\n",
    "sleep_time = st.number_input(\"Sleep Time (Hours)\", min_value=0, max_value=24, value=7)\n",
    "asthma = st.selectbox(\"Asthma\", [0, 1])\n",
    "kidney_disease = st.selectbox(\"Kidney Disease\", [0, 1])\n",
    "skin_cancer = st.selectbox(\"Skin Cancer\", [0, 1])\n",
    "\n",
    "# Prepare input data\n",
    "input_data = {\n",
    "    'BMI': bmi,\n",
    "    'Smoking': smoking,\n",
    "    'AlcoholDrinking': alcohol_drinking,\n",
    "    'Stroke': stroke,\n",
    "    'PhysicalHealth': physical_health,\n",
    "    'MentalHealth': mental_health,\n",
    "    'DiffWalking': diff_walking,\n",
    "    'Sex_Male': 1 if sex == \"Male\" else 0,\n",
    "    'AgeCategory_30-34': 1 if age_category == \"30-34\" else 0,\n",
    "    'AgeCategory_35-39': 1 if age_category == \"35-39\" else 0,\n",
    "    'AgeCategory_40-44': 1 if age_category == \"40-44\" else 0,\n",
    "    'AgeCategory_50-54': 1 if age_category == \"50-54\" else 0,\n",
    "    'AgeCategory_70-74': 1 if age_category == \"70-74\" else 0,\n",
    "    'Race_Hispanic': 1 if race == \"Hispanic\" else 0,\n",
    "    'Race_Black': 1 if race == \"Black\" else 0,\n",
    "    'Race_Asian': 1 if race == \"Asian\" else 0,\n",
    "    'Race_American Indian/Alaskan Native': 1 if race == \"American Indian/Alaskan Native\" else 0,\n",
    "    'Diabetic_No, borderline diabetes': 1 if diabetic == \"No, borderline diabetes\" else 0,\n",
    "    'Diabetic_Yes (during pregnancy)': 1 if diabetic == \"Yes (during pregnancy)\" else 0,\n",
    "    'Diabetic_Yes': 1 if diabetic == \"Yes\" else 0,\n",
    "    'PhysicalActivity': physical_activity,\n",
    "    'GenHealth_Fair': 1 if gen_health == \"Fair\" else 0,\n",
    "    'GenHealth_Good': 1 if gen_health == \"Good\" else 0,\n",
    "    'GenHealth_Very Good': 1 if gen_health == \"Very Good\" else 0,\n",
    "    'GenHealth_Excellent': 1 if gen_health == \"Excellent\" else 0,\n",
    "    'SleepTime': sleep_time,\n",
    "    'Asthma': asthma,\n",
    "    'KidneyDisease': kidney_disease,\n",
    "    'SkinCancer': skin_cancer\n",
    "}\n",
    "\n",
    "# Predict button\n",
    "if st.button(\"Predict\"):\n",
    "    result = predict_heart_disease(input_data)\n",
    "    st.write(f\"Heart Disease Prediction: {result}\")"
   ]
  },
  {
   "cell_type": "code",
   "execution_count": 3,
   "metadata": {
    "colab": {
     "base_uri": "https://localhost:8080/"
    },
    "id": "kajdTwojP-GJ",
    "outputId": "96006c12-18d3-4321-b0b7-18ed83896f3c"
   },
   "outputs": [
    {
     "name": "stderr",
     "output_type": "stream",
     "text": [
      "'wget' is not recognized as an internal or external command,\n",
      "operable program or batch file.\n"
     ]
    }
   ],
   "source": [
    "! wget -q -O - ipv4.icanhazip.com  ##for getting the code"
   ]
  },
  {
   "cell_type": "code",
   "execution_count": null,
   "metadata": {
    "colab": {
     "base_uri": "https://localhost:8080/"
    },
    "id": "LRO27aRjRBwa",
    "outputId": "47ffee5f-fe56-4d74-f4bd-c769fc0f545e"
   },
   "outputs": [],
   "source": [
    "! streamlit run app.py & npx localtunnel --port 8501"
   ]
  },
  {
   "cell_type": "code",
   "execution_count": null,
   "metadata": {
    "id": "LxTpT_7dSGEK"
   },
   "outputs": [],
   "source": []
  },
  {
   "cell_type": "code",
   "execution_count": null,
   "metadata": {},
   "outputs": [],
   "source": []
  }
 ],
 "metadata": {
  "colab": {
   "provenance": []
  },
  "kernelspec": {
   "display_name": "Python [conda env:base] *",
   "language": "python",
   "name": "conda-base-py"
  },
  "language_info": {
   "codemirror_mode": {
    "name": "ipython",
    "version": 3
   },
   "file_extension": ".py",
   "mimetype": "text/x-python",
   "name": "python",
   "nbconvert_exporter": "python",
   "pygments_lexer": "ipython3",
   "version": "3.12.7"
  }
 },
 "nbformat": 4,
 "nbformat_minor": 4
}
